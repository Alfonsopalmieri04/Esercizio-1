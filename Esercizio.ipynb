{
 "cells": [
  {
   "cell_type": "code",
   "execution_count": 99,
   "id": "66eb7d25-9f8e-4849-9524-c2ca272b5b3c",
   "metadata": {},
   "outputs": [
    {
     "data": {
      "text/plain": [
       "'\\nVado in palestra:\\npreparo il borsone,\\nmi assicuro che ci sia tutto il materiale,\\nprendo le chiavi della macchina,\\nmi reco in palestra,\\ninizio la scheda,\\nmi lavo,\\nmi rimetto in macchina,\\ntorno a casa. '"
      ]
     },
     "execution_count": 99,
     "metadata": {},
     "output_type": "execute_result"
    }
   ],
   "source": [
    "\"\"\"\n",
    "Esercizio Individuiamo tre task di qualsiasi tipo\n",
    "(fare la spesa, studiare un concetto, riempire il serbatoio dell'auto,\n",
    "acquistare uno snack da un distributore automatico, o qualunque altra cosa); \n",
    "Scriviamo un algoritmo (in forma testuale), cioè i passi necessari, per ognuno dei task selezionati.\"\"\"\n",
    "\n",
    "Vado in palestra:\n",
    "preparo il borsone,\n",
    "mi assicuro che ci sia tutto il materiale,\n",
    "prendo le chiavi della macchina,\n",
    "mi reco in palestra,\n",
    "inizio la scheda,\n",
    "mi lavo,\n",
    "mi rimetto in macchina,\n",
    "torno a casa. "
   ]
  },
  {
   "cell_type": "code",
   "execution_count": 10,
   "id": "d08efbcd-d5a0-45a1-ac29-d39f7551e246",
   "metadata": {},
   "outputs": [],
   "source": [
    "\"\"\"\n",
    "Abbiamo 25 studenti; memorizzare questo dato in una variabile.\"\"\"\n",
    "\n",
    "num_studenti= 25"
   ]
  },
  {
   "cell_type": "code",
   "execution_count": 11,
   "id": "7c43f5c0-5e6c-4d53-904a-d3be956349d2",
   "metadata": {},
   "outputs": [
    {
     "name": "stdout",
     "output_type": "stream",
     "text": [
      "25\n"
     ]
    }
   ],
   "source": [
    "\"\"\"\n",
    "Esercizio Abbiamo 25 studenti; memorizzare questo dato in una variabile e stamparla a video.\"\"\"\n",
    "\n",
    "print(num_studenti)"
   ]
  },
  {
   "cell_type": "code",
   "execution_count": 21,
   "id": "d0854c43-cea9-4e40-b6f7-dea6c7951942",
   "metadata": {},
   "outputs": [],
   "source": [
    "\"\"\"\n",
    "Arrivano altri 3 studenti; memorizzare questo dato in un'altra variabile.\"\"\"\n",
    "\n",
    "nuovi_student i= 3"
   ]
  },
  {
   "cell_type": "code",
   "execution_count": 22,
   "id": "1ea73f2b-b279-4c7d-abe8-5aa790bfa348",
   "metadata": {},
   "outputs": [
    {
     "name": "stdout",
     "output_type": "stream",
     "text": [
      "3\n"
     ]
    }
   ],
   "source": [
    "print(nuovi_studenti)"
   ]
  },
  {
   "cell_type": "code",
   "execution_count": 82,
   "id": "2a534685-b420-419b-b90b-65a99434209d",
   "metadata": {},
   "outputs": [
    {
     "name": "stdout",
     "output_type": "stream",
     "text": [
      "la somma di 25 e 3 = 28\n"
     ]
    }
   ],
   "source": [
    "\"\"\"\n",
    "Esercizio Abbiamo 25 studenti; memorizzare questo dato in una variabile.\n",
    "Arrivano altri 3 studenti;\n",
    "memorizzare questo dato in un'altra variabile. \n",
    "Creare un'altra variabile ancora che conterrà la somma delle prime due, poi stamparla a video.\"\"\"\n",
    "\n",
    "print('la somma di',num_studenti,'e', nuovi_studenti,'=',somma)"
   ]
  },
  {
   "cell_type": "code",
   "execution_count": 27,
   "id": "ac09c158-96a1-4a4f-a2f6-d4639729d71e",
   "metadata": {},
   "outputs": [],
   "source": [
    "\"\"\"\n",
    "Creare una variabile che contiene la stringa \"Epicode\", quindi stamparla a video.\"\"\"\n",
    "\n",
    "School = 'EPICODE'"
   ]
  },
  {
   "cell_type": "code",
   "execution_count": 92,
   "id": "9722c443-212e-46c3-86f8-4d053f64a539",
   "metadata": {},
   "outputs": [],
   "source": [
    "\"\"\"\n",
    "Abbiamo la variabile: x = 10\n",
    "Incrementarla di 2 e poi moltiplicarla per 3 \n",
    "Usare due metodi diversi (ad esempio, uno utilizzando gli operatori di assegnazione, e uno senza)\"\"\"\n",
    "\n",
    "x = 10\n",
    "x += 2\n",
    "x *= 3"
   ]
  },
  {
   "cell_type": "code",
   "execution_count": 93,
   "id": "85d96de9-85d0-4117-a4da-9d9e1b6ca8b9",
   "metadata": {},
   "outputs": [
    {
     "name": "stdout",
     "output_type": "stream",
     "text": [
      "36\n"
     ]
    }
   ],
   "source": [
    "print(x)"
   ]
  },
  {
   "cell_type": "code",
   "execution_count": 94,
   "id": "a1ca02e2-1155-4d02-83b8-90c3e0ca3160",
   "metadata": {},
   "outputs": [],
   "source": [
    "x = 10\n",
    "x = x + 2\n",
    "x = x * 3"
   ]
  },
  {
   "cell_type": "code",
   "execution_count": 95,
   "id": "ab8ee324-eabe-4a0a-ae97-02a35dfc7073",
   "metadata": {},
   "outputs": [
    {
     "name": "stdout",
     "output_type": "stream",
     "text": [
      "36\n"
     ]
    }
   ],
   "source": [
    "print(x)"
   ]
  },
  {
   "cell_type": "code",
   "execution_count": 109,
   "id": "1a2d2124-b1ef-445e-bf84-9030242214b5",
   "metadata": {},
   "outputs": [
    {
     "name": "stdout",
     "output_type": "stream",
     "text": [
      "Windows è compreso\n",
      "Excel non è compreso\n",
      "Powerpoint non è compreso\n",
      "Word non è compreso\n"
     ]
    }
   ],
   "source": [
    "\"\"\"\n",
    "Verificare, per ognuna delle seguenti stringhe, se il numero di caratteri è compreso tra 5 e 8:\n",
    "• str1 = \"Windows\" • str2 = \"Excel\" • str3 = \"Powerpoint\" • str4 = \"Word\" \"\"\"\n",
    "\n",
    "str1 = \"Windows\" \n",
    "str2 = \"Excel\" \n",
    "str3 = \"Powerpoint\" \n",
    "str4 = \"Word\"\n",
    "\n",
    "lista=[str1,str2,str3,str4]\n",
    "for stringa in lista:\n",
    "    if 5<len(stringa)<8:\n",
    "        print(stringa + \" è compreso\")\n",
    "    else:\n",
    "        print(stringa + \" non è compreso\")\n"
   ]
  },
  {
   "cell_type": "code",
   "execution_count": 86,
   "id": "fc8117f9-880c-484b-a7a4-46721dd5713a",
   "metadata": {},
   "outputs": [],
   "source": [
    "\"\"\"\n",
    "Calcolare e stampare a video quanti secondi ci sono in un anno non bisestile.\"\"\"\n",
    "giorni_in_un_anno = 366\n",
    "ore_in_un_giorno = 24\n",
    "minuti_in_un_ora = 60\n",
    "secondi_in_un_minuto = 60"
   ]
  },
  {
   "cell_type": "code",
   "execution_count": 97,
   "id": "7f2ce066-c773-4d3c-90cb-14738260d7f3",
   "metadata": {},
   "outputs": [],
   "source": [
    "numero_di_secondi =366*24*60*60"
   ]
  },
  {
   "cell_type": "code",
   "execution_count": 98,
   "id": "c4931477-78bb-4e7f-86af-8079e8436c1c",
   "metadata": {},
   "outputs": [
    {
     "name": "stdout",
     "output_type": "stream",
     "text": [
      "31622400\n"
     ]
    }
   ],
   "source": [
    "print(numero_di_secondi)"
   ]
  },
  {
   "cell_type": "code",
   "execution_count": 74,
   "id": "d5a21c4d-1def-4b2e-bfd6-0ebb017f1b41",
   "metadata": {},
   "outputs": [],
   "source": [
    "\"\"\"\n",
    "Abbiamo la seguente stringa: my_string = \"I am studying Python\" \n",
    "• Trasformarla in modo che tutti i caratteri siano maiuscoli (uppercase) \n",
    "• Trasformarla in modo che tutti i caratteri siano minuscoli (lowercase)\n",
    "• Sostituire la sottostringa \"Python\" con la stringa \"a lot\"\n",
    "• Usare il metodo .strip(); cambia qualcosa? Perché?\"\"\"\n",
    "\n",
    "my_string = 'I am studing Python'"
   ]
  },
  {
   "cell_type": "code",
   "execution_count": 75,
   "id": "2069d04c-7417-4ef1-bfa4-835612ded44f",
   "metadata": {},
   "outputs": [
    {
     "data": {
      "text/plain": [
       "'I AM STUDING PYTHON'"
      ]
     },
     "execution_count": 75,
     "metadata": {},
     "output_type": "execute_result"
    }
   ],
   "source": [
    "my_string.upper()"
   ]
  },
  {
   "cell_type": "code",
   "execution_count": 76,
   "id": "b66c3b3c-62d6-49c0-bc47-34108bed5f84",
   "metadata": {},
   "outputs": [
    {
     "data": {
      "text/plain": [
       "'i am studing python'"
      ]
     },
     "execution_count": 76,
     "metadata": {},
     "output_type": "execute_result"
    }
   ],
   "source": [
    "my_string.lower()"
   ]
  },
  {
   "cell_type": "code",
   "execution_count": 78,
   "id": "735cff71-ca8f-49d2-96e6-e026df99cd01",
   "metadata": {},
   "outputs": [
    {
     "data": {
      "text/plain": [
       "'I am studing a lot'"
      ]
     },
     "execution_count": 78,
     "metadata": {},
     "output_type": "execute_result"
    }
   ],
   "source": [
    "my_string.replace('Python', 'a lot')"
   ]
  }
 ],
 "metadata": {
  "kernelspec": {
   "display_name": "Python 3 (ipykernel)",
   "language": "python",
   "name": "python3"
  },
  "language_info": {
   "codemirror_mode": {
    "name": "ipython",
    "version": 3
   },
   "file_extension": ".py",
   "mimetype": "text/x-python",
   "name": "python",
   "nbconvert_exporter": "python",
   "pygments_lexer": "ipython3",
   "version": "3.11.7"
  }
 },
 "nbformat": 4,
 "nbformat_minor": 5
}
